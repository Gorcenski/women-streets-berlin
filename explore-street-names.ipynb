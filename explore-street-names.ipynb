{
 "cells": [
  {
   "cell_type": "code",
   "execution_count": 1,
   "metadata": {},
   "outputs": [],
   "source": [
    "import pandas as pd\n",
    "import wikipedia"
   ]
  },
  {
   "cell_type": "code",
   "execution_count": 2,
   "metadata": {},
   "outputs": [],
   "source": [
    "names = pd.read_csv('data/firstnames.csv', delimiter=';')\n",
    "female_names = names[names['Germany'].notnull() & names['gender'].str.contains('F')]['name']\n",
    "male_names = names[names['Germany'].notnull() & names['gender'].str.contains('M')]['name']"
   ]
  },
  {
   "cell_type": "code",
   "execution_count": 3,
   "metadata": {},
   "outputs": [
    {
     "data": {
      "text/html": [
       "<div>\n",
       "<style scoped>\n",
       "    .dataframe tbody tr th:only-of-type {\n",
       "        vertical-align: middle;\n",
       "    }\n",
       "\n",
       "    .dataframe tbody tr th {\n",
       "        vertical-align: top;\n",
       "    }\n",
       "\n",
       "    .dataframe thead th {\n",
       "        text-align: right;\n",
       "    }\n",
       "</style>\n",
       "<table border=\"1\" class=\"dataframe\">\n",
       "  <thead>\n",
       "    <tr style=\"text-align: right;\">\n",
       "      <th></th>\n",
       "      <th>node</th>\n",
       "      <th>id</th>\n",
       "      <th>lat</th>\n",
       "      <th>long</th>\n",
       "      <th>country</th>\n",
       "      <th>city</th>\n",
       "      <th>street</th>\n",
       "    </tr>\n",
       "  </thead>\n",
       "  <tbody>\n",
       "    <tr>\n",
       "      <th>0</th>\n",
       "      <td>node</td>\n",
       "      <td>26735749</td>\n",
       "      <td>13.322832</td>\n",
       "      <td>52.506912</td>\n",
       "      <td>DE</td>\n",
       "      <td>Berlin</td>\n",
       "      <td>Knesebeckstraße</td>\n",
       "    </tr>\n",
       "    <tr>\n",
       "      <th>1</th>\n",
       "      <td>node</td>\n",
       "      <td>26735759</td>\n",
       "      <td>13.318092</td>\n",
       "      <td>52.506207</td>\n",
       "      <td>DE</td>\n",
       "      <td>Berlin</td>\n",
       "      <td>Kantstraße</td>\n",
       "    </tr>\n",
       "    <tr>\n",
       "      <th>2</th>\n",
       "      <td>node</td>\n",
       "      <td>26735763</td>\n",
       "      <td>13.320785</td>\n",
       "      <td>52.507339</td>\n",
       "      <td>DE</td>\n",
       "      <td>Berlin</td>\n",
       "      <td>Pestalozzistraße</td>\n",
       "    </tr>\n",
       "    <tr>\n",
       "      <th>3</th>\n",
       "      <td>node</td>\n",
       "      <td>26756830</td>\n",
       "      <td>13.328194</td>\n",
       "      <td>52.530825</td>\n",
       "      <td>DE</td>\n",
       "      <td>Berlin</td>\n",
       "      <td>Beusselstraße</td>\n",
       "    </tr>\n",
       "    <tr>\n",
       "      <th>4</th>\n",
       "      <td>node</td>\n",
       "      <td>26867411</td>\n",
       "      <td>13.294379</td>\n",
       "      <td>52.501851</td>\n",
       "      <td>DE</td>\n",
       "      <td>Berlin</td>\n",
       "      <td>Heilbronner Straße</td>\n",
       "    </tr>\n",
       "  </tbody>\n",
       "</table>\n",
       "</div>"
      ],
      "text/plain": [
       "   node        id        lat       long country    city              street\n",
       "0  node  26735749  13.322832  52.506912      DE  Berlin     Knesebeckstraße\n",
       "1  node  26735759  13.318092  52.506207      DE  Berlin          Kantstraße\n",
       "2  node  26735763  13.320785  52.507339      DE  Berlin    Pestalozzistraße\n",
       "3  node  26756830  13.328194  52.530825      DE  Berlin       Beusselstraße\n",
       "4  node  26867411  13.294379  52.501851      DE  Berlin  Heilbronner Straße"
      ]
     },
     "execution_count": 3,
     "metadata": {},
     "output_type": "execute_result"
    }
   ],
   "source": [
    "df = pd.read_csv('data/berlin-streets.csv', delimiter='\\t', header=0, names=['node', 'id', 'lat', 'long', 'country', 'city', 'street'])\n",
    "df.drop_duplicates(subset=['street'], inplace=True)\n",
    "df.head()"
   ]
  },
  {
   "cell_type": "code",
   "execution_count": 4,
   "metadata": {},
   "outputs": [
    {
     "data": {
      "text/html": [
       "<div>\n",
       "<style scoped>\n",
       "    .dataframe tbody tr th:only-of-type {\n",
       "        vertical-align: middle;\n",
       "    }\n",
       "\n",
       "    .dataframe tbody tr th {\n",
       "        vertical-align: top;\n",
       "    }\n",
       "\n",
       "    .dataframe thead th {\n",
       "        text-align: right;\n",
       "    }\n",
       "</style>\n",
       "<table border=\"1\" class=\"dataframe\">\n",
       "  <thead>\n",
       "    <tr style=\"text-align: right;\">\n",
       "      <th></th>\n",
       "      <th>node</th>\n",
       "      <th>id</th>\n",
       "      <th>lat</th>\n",
       "      <th>long</th>\n",
       "      <th>country</th>\n",
       "      <th>city</th>\n",
       "      <th>street</th>\n",
       "      <th>woman</th>\n",
       "      <th>man</th>\n",
       "    </tr>\n",
       "  </thead>\n",
       "  <tbody>\n",
       "    <tr>\n",
       "      <th>43</th>\n",
       "      <td>node</td>\n",
       "      <td>54854684</td>\n",
       "      <td>13.308889</td>\n",
       "      <td>52.570945</td>\n",
       "      <td>DE</td>\n",
       "      <td>Berlin</td>\n",
       "      <td>Auguste-Viktoria-Allee</td>\n",
       "      <td>True</td>\n",
       "      <td>False</td>\n",
       "    </tr>\n",
       "    <tr>\n",
       "      <th>77</th>\n",
       "      <td>node</td>\n",
       "      <td>69226092</td>\n",
       "      <td>13.372484</td>\n",
       "      <td>52.508197</td>\n",
       "      <td>DE</td>\n",
       "      <td>Berlin</td>\n",
       "      <td>Marlene-Dietrich-Platz</td>\n",
       "      <td>True</td>\n",
       "      <td>True</td>\n",
       "    </tr>\n",
       "    <tr>\n",
       "      <th>191</th>\n",
       "      <td>node</td>\n",
       "      <td>203469159</td>\n",
       "      <td>13.542597</td>\n",
       "      <td>52.526871</td>\n",
       "      <td>DE</td>\n",
       "      <td>Berlin</td>\n",
       "      <td>Helene-Weigel-Platz</td>\n",
       "      <td>True</td>\n",
       "      <td>False</td>\n",
       "    </tr>\n",
       "    <tr>\n",
       "      <th>281</th>\n",
       "      <td>node</td>\n",
       "      <td>256754256</td>\n",
       "      <td>13.411436</td>\n",
       "      <td>52.525898</td>\n",
       "      <td>DE</td>\n",
       "      <td>Berlin</td>\n",
       "      <td>Rosa-Luxemburg-Straße</td>\n",
       "      <td>True</td>\n",
       "      <td>False</td>\n",
       "    </tr>\n",
       "    <tr>\n",
       "      <th>286</th>\n",
       "      <td>node</td>\n",
       "      <td>257704934</td>\n",
       "      <td>13.211915</td>\n",
       "      <td>52.546258</td>\n",
       "      <td>DE</td>\n",
       "      <td>Berlin</td>\n",
       "      <td>Frieda-Arnheim-Promenade</td>\n",
       "      <td>True</td>\n",
       "      <td>False</td>\n",
       "    </tr>\n",
       "  </tbody>\n",
       "</table>\n",
       "</div>"
      ],
      "text/plain": [
       "     node         id        lat       long country    city  \\\n",
       "43   node   54854684  13.308889  52.570945      DE  Berlin   \n",
       "77   node   69226092  13.372484  52.508197      DE  Berlin   \n",
       "191  node  203469159  13.542597  52.526871      DE  Berlin   \n",
       "281  node  256754256  13.411436  52.525898      DE  Berlin   \n",
       "286  node  257704934  13.211915  52.546258      DE  Berlin   \n",
       "\n",
       "                       street  woman    man  \n",
       "43     Auguste-Viktoria-Allee   True  False  \n",
       "77     Marlene-Dietrich-Platz   True   True  \n",
       "191       Helene-Weigel-Platz   True  False  \n",
       "281     Rosa-Luxemburg-Straße   True  False  \n",
       "286  Frieda-Arnheim-Promenade   True  False  "
      ]
     },
     "execution_count": 4,
     "metadata": {},
     "output_type": "execute_result"
    }
   ],
   "source": [
    "df['woman'] = df.transform({'street': lambda x : any(y in x.split('-') for y in female_names)})\n",
    "df['man'] = df.transform({'street': lambda x : any(y in x.split('-') for y in male_names)})\n",
    "df[df['woman']].head()"
   ]
  },
  {
   "cell_type": "code",
   "execution_count": 5,
   "metadata": {},
   "outputs": [
    {
     "data": {
      "text/plain": [
       "43     Auguste Viktoria\n",
       "77     Marlene Dietrich\n",
       "191       Helene Weigel\n",
       "281      Rosa Luxemburg\n",
       "286      Frieda Arnheim\n",
       "dtype: object"
      ]
     },
     "execution_count": 5,
     "metadata": {},
     "output_type": "execute_result"
    }
   ],
   "source": [
    "women = df[df['woman']].apply(lambda x : ' '.join(x['street'].split('-')[:-1]), axis = 1)\n",
    "women.head()"
   ]
  },
  {
   "cell_type": "code",
   "execution_count": 6,
   "metadata": {},
   "outputs": [
    {
     "name": "stdout",
     "output_type": "stream",
     "text": [
      "Auguste Viktoria\n"
     ]
    },
    {
     "data": {
      "text/plain": [
       "'Viktoria von Dirksen'"
      ]
     },
     "execution_count": 6,
     "metadata": {},
     "output_type": "execute_result"
    }
   ],
   "source": [
    "wikipedia.set_lang('de')\n",
    "print(women.iloc[0])\n",
    "wikipedia.page(wikipedia.search(women.iloc[0])[0]).title"
   ]
  },
  {
   "cell_type": "code",
   "execution_count": 124,
   "metadata": {},
   "outputs": [],
   "source": [
    "results = women.apply(lambda x : wikipedia.search(x))"
   ]
  },
  {
   "cell_type": "code",
   "execution_count": 153,
   "metadata": {},
   "outputs": [
    {
     "name": "stdout",
     "output_type": "stream",
     "text": [
      "{'Hildegard Marcusson': ['Erwin Marcusson', 'Friedrichs-Waisenhaus Rummelsburg', 'Liste der Biografien/Mara–Marh', 'Liste der Straßen und Plätze in Berlin-Wilmersdorf', 'Nekrolog 1976', 'Liste der Straßen und Plätze in Berlin-Rummelsburg', 'Liste der Kulturdenkmale in Berlin-Rummelsburg']}\n",
      "{'Amelie Beese': ['Amelie (Vorname)', 'Melli Beese', 'Beese', 'Liste bekannter Personen der Luftfahrt', 'Liste der Straßennamen von Frankfurt am Main/M', 'Garten der Frauen', 'Liste der Ehrengräber in Berlin', 'Liste der Straßen und Plätze in Berlin-Kladow']}\n",
      "{'Rosa Reinglass': ['Liste der Straßen und Plätze in Berlin-Hakenfelde', 'Liste der Stolpersteine in Berlin-Wilhelmstadt']}\n",
      "{'Anna Bruseberg': ['Liste der Straßen und Plätze in Berlin-Französisch Buchholz']}\n",
      "{'Hiltrud Dudek': ['Südpark (Berlin-Rudow)', 'Liste der Straßen und Plätze in Berlin-Rudow', 'Liste der Kinos im Berliner Bezirk Neukölln']}\n",
      "{'Gertrud Dorka': ['Gertrud Dorka', 'Dorka', 'Landesgeschichtliche Vereinigung für die Mark Brandenburg', 'Ethnologisches Museum', 'Liste der Straßen und Plätze in Berlin-Rudow', 'Nekrolog 1976', 'Nekrolog 3. Quartal 2008', 'Liste der Biografien/Dor']}\n",
      "{'Wilhelmine Gemberg': ['Liste der Straßen und Plätze in Berlin-Mitte', 'Nekrolog 1902']}\n"
     ]
    }
   ],
   "source": [
    "for idx, r in results[results.apply(lambda x : len(x)) < 10].iteritems():\n",
    "    print({women.loc[idx]: r})"
   ]
  },
  {
   "cell_type": "code",
   "execution_count": 149,
   "metadata": {},
   "outputs": [
    {
     "data": {
      "text/plain": [
       "'Anna Bruseberg'"
      ]
     },
     "execution_count": 149,
     "metadata": {},
     "output_type": "execute_result"
    }
   ],
   "source": [
    "women.loc[230352]"
   ]
  },
  {
   "cell_type": "code",
   "execution_count": null,
   "metadata": {},
   "outputs": [],
   "source": []
  }
 ],
 "metadata": {
  "kernelspec": {
   "display_name": "Python 3",
   "language": "python",
   "name": "python3"
  },
  "language_info": {
   "codemirror_mode": {
    "name": "ipython",
    "version": 3
   },
   "file_extension": ".py",
   "mimetype": "text/x-python",
   "name": "python",
   "nbconvert_exporter": "python",
   "pygments_lexer": "ipython3",
   "version": "3.5.2"
  }
 },
 "nbformat": 4,
 "nbformat_minor": 2
}
